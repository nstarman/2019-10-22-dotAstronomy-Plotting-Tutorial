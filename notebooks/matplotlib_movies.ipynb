{
 "cells": [
  {
   "cell_type": "markdown",
   "metadata": {},
   "source": [
    "# Making Movies with Matplotlib"
   ]
  },
  {
   "cell_type": "code",
   "execution_count": 1,
   "metadata": {},
   "outputs": [],
   "source": [
    "'''\n",
    "TITLE   : Making Movies with Matplotlib\n",
    "AUTHOR  : Nathaniel Starkman\n",
    "PROJECT : 11th .Astronomy Conference\n",
    "'''\n",
    "\n",
    "__author__ = 'Nathaniel Starkman'\n",
    "__credits__ = ['J.R. Johansson', 'plotly']"
   ]
  },
  {
   "cell_type": "markdown",
   "metadata": {},
   "source": [
    "## Introduction"
   ]
  },
  {
   "cell_type": "markdown",
   "metadata": {},
   "source": [
    "This notebook details how to make and save a movie using the powerful `FuncAnimation` and an update method for a figure.  Movies are an excellent way to communicate science, especially to the public.  Making a movie in Matplotlib is not terribly difficult, but the structure of a movie-plotting function is quite a bit different than for standard Matplotlib.  The real problem is saving a movie.  Depending on your OS and python version the backend can be difficult to set up.  I cover the basics of how to make a movie, and have embedded in a number of example scripts, sourced from Jake Vanderplas and matplotlib."
   ]
  },
  {
   "cell_type": "markdown",
   "metadata": {},
   "source": [
    "<br>\n",
    "\n",
    "Saving animations in Matplotlib can be difficult because Matplotlib needs to interface with operating system tools that may or may not exist on you r computer and may or may not be installed correctly.\n",
    "I am using a Mac (OS Catalina) with Python 3.7.3 and have only managed to get a working copy of `ffmpeg`, an MP4 encoder, using Homebrew. Conda and pip did not work.\n",
    "\n",
    "```\n",
    "Python 3.7.3 (default, Mar 27 2019, 16:54:48) \n",
    "[Clang 4.0.1 (tags/RELEASE_401/final)] :: Anaconda, Inc. on darwin\n",
    "```\n"
   ]
  },
  {
   "cell_type": "markdown",
   "metadata": {},
   "source": [
    "<br>\n",
    "\n",
    "- - - \n",
    "\n",
    "<br>"
   ]
  },
  {
   "cell_type": "markdown",
   "metadata": {},
   "source": [
    "## Prepare"
   ]
  },
  {
   "cell_type": "markdown",
   "metadata": {
    "inputHidden": false,
    "outputHidden": false
   },
   "source": [
    "### Imports"
   ]
  },
  {
   "cell_type": "code",
   "execution_count": 2,
   "metadata": {
    "collapsed": false,
    "inputHidden": false,
    "jupyter": {
     "outputs_hidden": false
    },
    "outputHidden": false
   },
   "outputs": [],
   "source": [
    "## General\n",
    "# numpy\n",
    "import numpy as np\n",
    "from numpy import sin, cos\n",
    "\n",
    "from time import time\n",
    "\n",
    "# Scipy\n",
    "from scipy.fftpack import fft, ifft\n",
    "from scipy import integrate, stats\n",
    "from scipy.spatial.distance import pdist, squareform\n",
    "\n",
    "# Matplotlib\n",
    "from matplotlib import pyplot as plt\n",
    "from matplotlib import animation\n",
    "from matplotlib.lines import Line2D\n",
    "from matplotlib.animation import FuncAnimation\n",
    "import mpl_toolkits.mplot3d.axes3d as p3\n"
   ]
  },
  {
   "cell_type": "code",
   "execution_count": 3,
   "metadata": {},
   "outputs": [],
   "source": [
    "np.random.seed(0)"
   ]
  },
  {
   "cell_type": "markdown",
   "metadata": {},
   "source": [
    "<br>"
   ]
  },
  {
   "cell_type": "markdown",
   "metadata": {},
   "source": [
    "### Functions"
   ]
  },
  {
   "cell_type": "markdown",
   "metadata": {},
   "source": [
    "The main function we will be using today is `FuncAnimation`."
   ]
  },
  {
   "cell_type": "code",
   "execution_count": 4,
   "metadata": {},
   "outputs": [
    {
     "data": {
      "text/plain": [
       "\u001b[0;31mInit signature:\u001b[0m\n",
       "\u001b[0manimation\u001b[0m\u001b[0;34m.\u001b[0m\u001b[0mFuncAnimation\u001b[0m\u001b[0;34m(\u001b[0m\u001b[0;34m\u001b[0m\n",
       "\u001b[0;34m\u001b[0m    \u001b[0mfig\u001b[0m\u001b[0;34m,\u001b[0m\u001b[0;34m\u001b[0m\n",
       "\u001b[0;34m\u001b[0m    \u001b[0mfunc\u001b[0m\u001b[0;34m,\u001b[0m\u001b[0;34m\u001b[0m\n",
       "\u001b[0;34m\u001b[0m    \u001b[0mframes\u001b[0m\u001b[0;34m=\u001b[0m\u001b[0;32mNone\u001b[0m\u001b[0;34m,\u001b[0m\u001b[0;34m\u001b[0m\n",
       "\u001b[0;34m\u001b[0m    \u001b[0minit_func\u001b[0m\u001b[0;34m=\u001b[0m\u001b[0;32mNone\u001b[0m\u001b[0;34m,\u001b[0m\u001b[0;34m\u001b[0m\n",
       "\u001b[0;34m\u001b[0m    \u001b[0mfargs\u001b[0m\u001b[0;34m=\u001b[0m\u001b[0;32mNone\u001b[0m\u001b[0;34m,\u001b[0m\u001b[0;34m\u001b[0m\n",
       "\u001b[0;34m\u001b[0m    \u001b[0msave_count\u001b[0m\u001b[0;34m=\u001b[0m\u001b[0;32mNone\u001b[0m\u001b[0;34m,\u001b[0m\u001b[0;34m\u001b[0m\n",
       "\u001b[0;34m\u001b[0m    \u001b[0;34m*\u001b[0m\u001b[0;34m,\u001b[0m\u001b[0;34m\u001b[0m\n",
       "\u001b[0;34m\u001b[0m    \u001b[0mcache_frame_data\u001b[0m\u001b[0;34m=\u001b[0m\u001b[0;32mTrue\u001b[0m\u001b[0;34m,\u001b[0m\u001b[0;34m\u001b[0m\n",
       "\u001b[0;34m\u001b[0m    \u001b[0;34m**\u001b[0m\u001b[0mkwargs\u001b[0m\u001b[0;34m,\u001b[0m\u001b[0;34m\u001b[0m\n",
       "\u001b[0;34m\u001b[0m\u001b[0;34m)\u001b[0m\u001b[0;34m\u001b[0m\u001b[0;34m\u001b[0m\u001b[0m\n",
       "\u001b[0;31mDocstring:\u001b[0m     \n",
       "Makes an animation by repeatedly calling a function *func*.\n",
       "\n",
       "Parameters\n",
       "----------\n",
       "fig : matplotlib.figure.Figure\n",
       "   The figure object that is used to get draw, resize, and any\n",
       "   other needed events.\n",
       "\n",
       "func : callable\n",
       "   The function to call at each frame.  The first argument will\n",
       "   be the next value in *frames*.   Any additional positional\n",
       "   arguments can be supplied via the *fargs* parameter.\n",
       "\n",
       "   The required signature is::\n",
       "\n",
       "      def func(frame, *fargs) -> iterable_of_artists\n",
       "\n",
       "   If ``blit == True``, *func* must return an iterable of all artists\n",
       "   that were modified or created. This information is used by the blitting\n",
       "   algorithm to determine which parts of the figure have to be updated.\n",
       "   The return value is unused if ``blit == False`` and may be omitted in\n",
       "   that case.\n",
       "\n",
       "frames : iterable, int, generator function, or None, optional\n",
       "    Source of data to pass *func* and each frame of the animation\n",
       "\n",
       "    - If an iterable, then simply use the values provided.  If the\n",
       "      iterable has a length, it will override the *save_count* kwarg.\n",
       "\n",
       "    - If an integer, then equivalent to passing ``range(frames)``\n",
       "\n",
       "    - If a generator function, then must have the signature::\n",
       "\n",
       "         def gen_function() -> obj\n",
       "\n",
       "    - If *None*, then equivalent to passing ``itertools.count``.\n",
       "\n",
       "    In all of these cases, the values in *frames* is simply passed through\n",
       "    to the user-supplied *func* and thus can be of any type.\n",
       "\n",
       "init_func : callable, optional\n",
       "   A function used to draw a clear frame. If not given, the\n",
       "   results of drawing from the first item in the frames sequence\n",
       "   will be used. This function will be called once before the\n",
       "   first frame.\n",
       "\n",
       "   The required signature is::\n",
       "\n",
       "      def init_func() -> iterable_of_artists\n",
       "\n",
       "   If ``blit == True``, *init_func* must return an iterable of artists\n",
       "   to be re-drawn. This information is used by the blitting\n",
       "   algorithm to determine which parts of the figure have to be updated.\n",
       "   The return value is unused if ``blit == False`` and may be omitted in\n",
       "   that case.\n",
       "\n",
       "fargs : tuple or None, optional\n",
       "   Additional arguments to pass to each call to *func*.\n",
       "\n",
       "save_count : int, optional\n",
       "   The number of values from *frames* to cache.\n",
       "\n",
       "interval : number, optional\n",
       "   Delay between frames in milliseconds.  Defaults to 200.\n",
       "\n",
       "repeat_delay : number, optional\n",
       "   If the animation in repeated, adds a delay in milliseconds\n",
       "   before repeating the animation.  Defaults to *None*.\n",
       "\n",
       "repeat : bool, optional\n",
       "   Controls whether the animation should repeat when the sequence\n",
       "   of frames is completed.  Defaults to *True*.\n",
       "\n",
       "blit : bool, optional\n",
       "   Controls whether blitting is used to optimize drawing. Note: when using\n",
       "   blitting any animated artists will be drawn according to their zorder.\n",
       "   However, they will be drawn on top of any previous artists, regardless\n",
       "   of their zorder.  Defaults to *False*.\n",
       "\n",
       "cache_frame_data : bool, optional\n",
       "   Controls whether frame data is cached. Defaults to *True*.\n",
       "   Disabling cache might be helpful when frames contain large objects.\n",
       "\u001b[0;31mFile:\u001b[0m           ~/miniconda3/lib/python3.7/site-packages/matplotlib/animation.py\n",
       "\u001b[0;31mType:\u001b[0m           type\n",
       "\u001b[0;31mSubclasses:\u001b[0m     \n"
      ]
     },
     "metadata": {},
     "output_type": "display_data"
    }
   ],
   "source": [
    "animation.FuncAnimation?"
   ]
  },
  {
   "cell_type": "markdown",
   "metadata": {},
   "source": [
    "<br><br>\n",
    "\n",
    "- - - \n",
    "- - - \n",
    "\n",
    "<br><br>"
   ]
  },
  {
   "cell_type": "markdown",
   "metadata": {},
   "source": [
    "Matplotlib movies are structured into 3 parts: the plot, the initializing function, and the animation function. The animation is built by combining these three elements with `FuncAnimation`.\n",
    "\n",
    "\n",
    "First, the creation of the figure. This part is the standard matplotlib.\n",
    "\n",
    "```python\n",
    "# define the figure & axes\n",
    "fig, ax = plt.subplots()\n",
    "\n",
    "# initialize the Line2D, this will be updated by the `animate` function.\n",
    "line, = ax.plot([], [])\n",
    "```\n",
    "\n",
    "Next we make the initialization function. The function should not accept arguments. Consequently, we need to modify the Line2D by searching outside the function scope and accessing the main namespace. The safest way is through global variables, but we don't need that in this simple example.\n",
    "\n",
    "\n",
    "```python\n",
    "def initialize_plot_state():\n",
    "    \"\"\"Initialization function. Resets the Line2D instance.\"\"\"\n",
    "    line.set_data([], [])  # resets the Line2D instance\n",
    "    return line,  # needs to be a list\n",
    "# /def\n",
    "```\n",
    "\n",
    "The last component is the animation function. This accepts one argument, the frame index.  The animation function sets the state of the Line2D instance. This can be done inside the animate function or by calling another function, in this case the undefined `state_function`.\n",
    "\n",
    "```python\n",
    "def animate_plot(i):\n",
    "    \"\"\"Animation function. Sets the Line2D instance.\n",
    "    Only argument is the frame index.\n",
    "    \"\"\"\n",
    "    x, y = state_function(i)\n",
    "    line.set_data(x, y)\n",
    "    return line,\n",
    "# /def\n",
    "```\n",
    "\n",
    "All the animation components come together with `FuncAnimation`. We have already seen the docstring, so we know how to call the function. I will point out that `blit=True` is important in this example since the function returns an iterable of all artists that were modified. The blitting algorithm determines the optimal way to update the figure and compress the movie file size.\n",
    "\n",
    "```python\n",
    "anim = animation.FuncAnimation(fig, animate_plot, init_func=initialize_plot_state,\n",
    "                               frames=200, interval=20, blit=True)\n",
    "```\n",
    "\n",
    "Last is saving the movie. This can be the most difficult part if the backend is not set up properly.\n",
    "\n",
    "```python\n",
    "anim.save('animation.mp4')\n",
    "```\n",
    "\n"
   ]
  },
  {
   "cell_type": "markdown",
   "metadata": {},
   "source": [
    "<br><br>\n",
    "\n",
    "- - - \n",
    "- - - \n",
    "\n",
    "<br>"
   ]
  },
  {
   "cell_type": "markdown",
   "metadata": {},
   "source": [
    "# Examples by Jake Vanderplas"
   ]
  },
  {
   "cell_type": "markdown",
   "metadata": {},
   "source": [
    "Jake Vanderplas is a python wizard. If you want to make a Python movie, or frankly pretty much anything in Python, check whether Jake Vanderplas has already done it better.\n",
    "\n",
    "We will work through a few examples. They are located at:\n",
    "\n",
    " - https://jakevdp.github.io/blog/2012/08/18/matplotlib-animation-tutorial/\n",
    " \n",
    "\n",
    "Mr. Vanderplas asks that his codes include this acknowledgement. Here it is.\n",
    "\n",
    "```\n",
    "author: Jake Vanderplas\n",
    "email: vanderplas@astro.washington.edu\n",
    "website: http://jakevdp.github.com\n",
    "license: BSD\n",
    "Please feel free to use and modify this, but keep the above information. Thanks!\n",
    "```"
   ]
  },
  {
   "cell_type": "markdown",
   "metadata": {},
   "source": [
    "<br>"
   ]
  },
  {
   "cell_type": "markdown",
   "metadata": {},
   "source": [
    "## Basic Animation"
   ]
  },
  {
   "cell_type": "markdown",
   "metadata": {},
   "source": [
    "This is an oscillating sine wave."
   ]
  },
  {
   "cell_type": "code",
   "execution_count": 5,
   "metadata": {},
   "outputs": [],
   "source": [
    "# First set up the figure, the axis, and the plot element we want to animate\n",
    "fig = plt.figure()\n",
    "ax = plt.axes(xlim=(0, 2), ylim=(-2, 2))\n",
    "line, = ax.plot([], [], lw=2)\n",
    "\n",
    "# initialization function: plot the background of each frame\n",
    "def init():\n",
    "    line.set_data([], [])\n",
    "    return line,\n",
    "# /def\n",
    "\n",
    "# animation function.  This is called sequentially\n",
    "def animate(i):\n",
    "    x = np.linspace(0, 2, 1000)\n",
    "    y = np.sin(2 * np.pi * (x - 0.01 * i))\n",
    "    line.set_data(x, y)\n",
    "    return line,\n",
    "# /def\n",
    "\n",
    "# call the animator.  blit=True means only re-draw the parts that have changed.\n",
    "anim = animation.FuncAnimation(fig, animate, init_func=init,\n",
    "                               frames=200, interval=20, blit=True)\n",
    "\n",
    "# save the animation as an mp4.  This requires ffmpeg or mencoder to be\n",
    "# installed.  The extra_args ensure that the x264 codec is used, so that\n",
    "# the video can be embedded in html5.  You may need to adjust this for\n",
    "# your system: for more information, see\n",
    "# http://matplotlib.sourceforge.net/api/animation_api.html\n",
    "anim.save('../figures/matplotlib/movies/basic_animation.mp4',\n",
    "          writer=animation.FFMpegWriter(fps=20, extra_args=['-vcodec', 'libx264']))\n",
    "\n",
    "plt.close()"
   ]
  },
  {
   "cell_type": "code",
   "execution_count": 6,
   "metadata": {},
   "outputs": [
    {
     "data": {
      "text/html": [
       "\n",
       "<video width=640\" height=\"480\" controls>\n",
       "  <source src=\"../figures/matplotlib/movies/basic_animation.mp4\" type=\"video/mp4\">\n",
       "</video>\n"
      ],
      "text/plain": [
       "<IPython.core.display.HTML object>"
      ]
     },
     "metadata": {},
     "output_type": "display_data"
    }
   ],
   "source": [
    "%%HTML\n",
    "\n",
    "<video width=640\" height=\"480\" controls>\n",
    "  <source src=\"../figures/matplotlib/movies/basic_animation.mp4\" type=\"video/mp4\">\n",
    "</video>"
   ]
  },
  {
   "cell_type": "markdown",
   "metadata": {},
   "source": [
    "<br><br>\n",
    "\n",
    "- - -\n",
    "\n",
    "<br>"
   ]
  },
  {
   "cell_type": "markdown",
   "metadata": {},
   "source": [
    "## General Numerical Solver for the 1D Time-Dependent Schrodinger's equation.  \n",
    "\n",
    "adapted from code at [animated double pendulum](http://matplotlib.sourceforge.net/examples/animation/double_pendulum_animated.py).\n",
    "\n",
    "Double pendulum formula translated from the C code [here](http://www.physics.usyd.edu.au/~wheat/dpend_html/solve_dpend.c)."
   ]
  },
  {
   "cell_type": "markdown",
   "metadata": {},
   "source": [
    "Now we define state function, in this case the `DoublePendulum` class."
   ]
  },
  {
   "cell_type": "code",
   "execution_count": 7,
   "metadata": {},
   "outputs": [],
   "source": [
    "class DoublePendulum:\n",
    "    \"\"\"Double Pendulum Class\n",
    "\n",
    "    init_state is [theta1, omega1, theta2, omega2] in degrees,\n",
    "    where theta1, omega1 is the angular position and velocity of the first\n",
    "    pendulum arm, and theta2, omega2 is that of the second pendulum arm\n",
    "    \"\"\"\n",
    "    def __init__(self, init_state = [120, 0, -20, 0],\n",
    "                 L1=1.0,  # length of pendulum 1 in m\n",
    "                 L2=1.0,  # length of pendulum 2 in m\n",
    "                 M1=1.0,  # mass of pendulum 1 in kg\n",
    "                 M2=1.0,  # mass of pendulum 2 in kg\n",
    "                 G=9.8,  # acceleration due to gravity, in m/s^2\n",
    "                 origin=(0, 0)):\n",
    "        # initialize state parameters\n",
    "        self.init_state = np.asarray(init_state, dtype='float')\n",
    "        self.params = (L1, L2, M1, M2, G)\n",
    "        self.origin = origin\n",
    "        self.time_elapsed = 0\n",
    "    \n",
    "        # set state\n",
    "        self.state = self.init_state * np.pi / 180.\n",
    "    # /def\n",
    "    \n",
    "    def position(self):\n",
    "        \"\"\"Compute the current x,y positions of the pendulum arms.\"\"\"\n",
    "        (L1, L2, M1, M2, G) = self.params\n",
    "\n",
    "        x = np.cumsum([self.origin[0],\n",
    "                       L1 * sin(self.state[0]),\n",
    "                       L2 * sin(self.state[2])])\n",
    "        y = np.cumsum([self.origin[1],\n",
    "                       -L1 * cos(self.state[0]),\n",
    "                       -L2 * cos(self.state[2])])\n",
    "        return (x, y)\n",
    "    # /def\n",
    "\n",
    "    def energy(self):\n",
    "        \"\"\"Compute the energy of the current state.\"\"\"\n",
    "        (L1, L2, M1, M2, G) = self.params\n",
    "\n",
    "        x = np.cumsum([L1 * sin(self.state[0]),\n",
    "                       L2 * sin(self.state[2])])\n",
    "        y = np.cumsum([-L1 * cos(self.state[0]),\n",
    "                       -L2 * cos(self.state[2])])\n",
    "        vx = np.cumsum([L1 * self.state[1] * cos(self.state[0]),\n",
    "                        L2 * self.state[3] * cos(self.state[2])])\n",
    "        vy = np.cumsum([L1 * self.state[1] * sin(self.state[0]),\n",
    "                        L2 * self.state[3] * sin(self.state[2])])\n",
    "\n",
    "        U = G * (M1 * y[0] + M2 * y[1])\n",
    "        K = 0.5 * (M1 * np.dot(vx, vx) + M2 * np.dot(vy, vy))\n",
    "\n",
    "        return U + K\n",
    "    # /def\n",
    "    \n",
    "    def dstate_dt(self, state, t):\n",
    "        \"\"\"Compute the derivative of the given state.\"\"\"\n",
    "        (M1, M2, L1, L2, G) = self.params\n",
    "\n",
    "        dydx = np.zeros_like(state)\n",
    "        dydx[0] = state[1]\n",
    "        dydx[2] = state[3]\n",
    "\n",
    "        cos_delta = cos(state[2] - state[0])\n",
    "        sin_delta = sin(state[2] - state[0])\n",
    "\n",
    "        den1 = (M1 + M2) * L1 - M2 * L1 * cos_delta * cos_delta\n",
    "        dydx[1] = (M2 * L1 * state[1] * state[1] * sin_delta * cos_delta\n",
    "                   + M2 * G * sin(state[2]) * cos_delta\n",
    "                   + M2 * L2 * state[3] * state[3] * sin_delta\n",
    "                   - (M1 + M2) * G * sin(state[0])) / den1\n",
    "\n",
    "        den2 = (L2 / L1) * den1\n",
    "        dydx[3] = (-M2 * L2 * state[3] * state[3] * sin_delta * cos_delta\n",
    "                   + (M1 + M2) * G * sin(state[0]) * cos_delta\n",
    "                   - (M1 + M2) * L1 * state[1] * state[1] * sin_delta\n",
    "                   - (M1 + M2) * G * sin(state[2])) / den2\n",
    "        \n",
    "        return dydx\n",
    "    # /def\n",
    "\n",
    "    def step(self, dt):\n",
    "        \"\"\"Execute one time step of length dt and update state.\"\"\"\n",
    "        self.state = integrate.odeint(self.dstate_dt, self.state, [0, dt])[1]\n",
    "        self.time_elapsed += dt\n",
    "    # /def\n",
    "\n",
    "# /class"
   ]
  },
  {
   "cell_type": "markdown",
   "metadata": {},
   "source": [
    "Calling the class."
   ]
  },
  {
   "cell_type": "code",
   "execution_count": 8,
   "metadata": {},
   "outputs": [],
   "source": [
    "# set up initial state and global variables\n",
    "pendulum = DoublePendulum([180., 0.0, -20., 0.0])\n",
    "dt = 1./30  # 30 fps"
   ]
  },
  {
   "cell_type": "markdown",
   "metadata": {},
   "source": [
    "Setting up the figure."
   ]
  },
  {
   "cell_type": "code",
   "execution_count": 9,
   "metadata": {},
   "outputs": [
    {
     "data": {
      "image/png": "[encoded data removed]",
      "text/plain": [
       "<Figure size 432x288 with 1 Axes>"
      ]
     },
     "metadata": {
      "needs_background": "light"
     },
     "output_type": "display_data"
    }
   ],
   "source": [
    "# set up figure and animation\n",
    "fig = plt.figure()\n",
    "ax = fig.add_subplot(111, aspect='equal', autoscale_on=False,\n",
    "                     xlim=(-2, 2), ylim=(-2, 2))\n",
    "ax.grid()\n",
    "\n",
    "line, = ax.plot([], [], 'o-', lw=2)\n",
    "time_text = ax.text(0.02, 0.95, '', transform=ax.transAxes)\n",
    "energy_text = ax.text(0.02, 0.90, '', transform=ax.transAxes);"
   ]
  },
  {
   "cell_type": "markdown",
   "metadata": {},
   "source": [
    "Creating the initialization function."
   ]
  },
  {
   "cell_type": "code",
   "execution_count": 10,
   "metadata": {},
   "outputs": [],
   "source": [
    "def init():\n",
    "    \"\"\"Initialize animation.\"\"\"\n",
    "    line.set_data([], [])\n",
    "    time_text.set_text('')\n",
    "    energy_text.set_text('')\n",
    "\n",
    "    return line, time_text, energy_text\n",
    "# /def"
   ]
  },
  {
   "cell_type": "markdown",
   "metadata": {},
   "source": [
    "Creating the animation function."
   ]
  },
  {
   "cell_type": "code",
   "execution_count": 11,
   "metadata": {},
   "outputs": [],
   "source": [
    "def animate(i):\n",
    "    \"\"\"Perform animation step\"\"\"\n",
    "    global pendulum, dt\n",
    "    pendulum.step(dt)\n",
    "\n",
    "    line.set_data(*pendulum.position())\n",
    "    time_text.set_text('time = %.1f' % pendulum.time_elapsed)\n",
    "    energy_text.set_text('energy = %.3f J' % pendulum.energy())\n",
    "\n",
    "    return line, time_text, energy_text\n",
    "# /def"
   ]
  },
  {
   "cell_type": "code",
   "execution_count": 12,
   "metadata": {},
   "outputs": [],
   "source": [
    "# choose the interval based on dt and the time to animate one step\n",
    "t0 = time()\n",
    "animate(0)\n",
    "t1 = time()\n",
    "interval = 1000 * dt - (t1 - t0)\n",
    "\n",
    "anim = animation.FuncAnimation(fig, animate, frames=300,\n",
    "                              interval=interval, blit=True, init_func=init)"
   ]
  },
  {
   "cell_type": "code",
   "execution_count": 13,
   "metadata": {},
   "outputs": [],
   "source": [
    "# save the animation as an mp4.  This requires ffmpeg or mencoder to be\n",
    "# installed.  The extra_args ensure that the x264 codec is used, so that\n",
    "# the video can be embedded in html5.  You may need to adjust this for\n",
    "# your system: for more information, see\n",
    "# http://matplotlib.sourceforge.net/api/animation_api.html\n",
    "#ani.save('double_pendulum.mp4', fps=30, extra_args=['-vcodec', 'libx264'])\n",
    "anim.save('../figures/matplotlib/movies/double_pendulum.mp4', writer=animation.FFMpegWriter(fps=20, extra_args=['-vcodec', 'libx264']))\n",
    "plt.close()"
   ]
  },
  {
   "cell_type": "code",
   "execution_count": 14,
   "metadata": {},
   "outputs": [
    {
     "data": {
      "text/html": [
       "\n",
       "<video width=640\" height=\"480\" controls>\n",
       "  <source src=\"../figures/matplotlib/movies/double_pendulum.mp4\" type=\"video/mp4\">\n",
       "</video>\n"
      ],
      "text/plain": [
       "<IPython.core.display.HTML object>"
      ]
     },
     "metadata": {},
     "output_type": "display_data"
    }
   ],
   "source": [
    "%%HTML\n",
    "\n",
    "<video width=640\" height=\"480\" controls>\n",
    "  <source src=\"../figures/matplotlib/movies/double_pendulum.mp4\" type=\"video/mp4\">\n",
    "</video>"
   ]
  },
  {
   "cell_type": "markdown",
   "metadata": {},
   "source": [
    "<br><br>\n",
    "\n",
    "- - -\n",
    "\n",
    "<br>"
   ]
  },
  {
   "cell_type": "markdown",
   "metadata": {},
   "source": [
    "## Animation of Elastic Collisions with Gravity"
   ]
  },
  {
   "cell_type": "markdown",
   "metadata": {},
   "source": [
    "This example is similar to the previous example, but increases the number of tracked states from 2 to 50."
   ]
  },
  {
   "cell_type": "code",
   "execution_count": 15,
   "metadata": {},
   "outputs": [],
   "source": [
    "class ParticleBox():\n",
    "    \"\"\"Orbits class\n",
    "    \n",
    "    init_state is an [N x 4] array, where N is the number of particles:\n",
    "       [[x1, y1, vx1, vy1],\n",
    "        [x2, y2, vx2, vy2],\n",
    "        ...               ]\n",
    "\n",
    "    bounds is the size of the box: [xmin, xmax, ymin, ymax]\n",
    "    \"\"\"\n",
    "    def __init__(self,\n",
    "                 init_state=[[1, 0, 0, -1],\n",
    "                             [-0.5, 0.5, 0.5, 0.5],\n",
    "                             [-0.5, -0.5, -0.5, 0.5]],\n",
    "                 bounds = [-2, 2, -2, 2],\n",
    "                 size = 0.04,\n",
    "                 M = 0.05,\n",
    "                 G = 9.8):\n",
    "        self.init_state = np.asarray(init_state, dtype=float)\n",
    "        self.M = M * np.ones(self.init_state.shape[0])\n",
    "        self.size = size\n",
    "        self.state = self.init_state.copy()\n",
    "        self.time_elapsed = 0\n",
    "        self.bounds = bounds\n",
    "        self.G = G\n",
    "    # /def\n",
    "\n",
    "    def step(self, dt):\n",
    "        \"\"\"step once by dt seconds\"\"\"\n",
    "        self.time_elapsed += dt\n",
    "        \n",
    "        # update positions\n",
    "        self.state[:, :2] += dt * self.state[:, 2:]\n",
    "\n",
    "        # find pairs of particles undergoing a collision\n",
    "        D = squareform(pdist(self.state[:, :2]))\n",
    "        ind1, ind2 = np.where(D < 2 * self.size)\n",
    "        unique = (ind1 < ind2)\n",
    "        ind1 = ind1[unique]\n",
    "        ind2 = ind2[unique]\n",
    "\n",
    "        # update velocities of colliding pairs\n",
    "        for i1, i2 in zip(ind1, ind2):\n",
    "            # mass\n",
    "            m1 = self.M[i1]\n",
    "            m2 = self.M[i2]\n",
    "\n",
    "            # location vector\n",
    "            r1 = self.state[i1, :2]\n",
    "            r2 = self.state[i2, :2]\n",
    "\n",
    "            # velocity vector\n",
    "            v1 = self.state[i1, 2:]\n",
    "            v2 = self.state[i2, 2:]\n",
    "\n",
    "            # relative location & velocity vectors\n",
    "            r_rel = r1 - r2\n",
    "            v_rel = v1 - v2\n",
    "\n",
    "            # momentum vector of the center of mass\n",
    "            v_cm = (m1 * v1 + m2 * v2) / (m1 + m2)\n",
    "\n",
    "            # collisions of spheres reflect v_rel over r_rel\n",
    "            rr_rel = np.dot(r_rel, r_rel)\n",
    "            vr_rel = np.dot(v_rel, r_rel)\n",
    "            v_rel = 2 * r_rel * vr_rel / rr_rel - v_rel\n",
    "\n",
    "            # assign new velocities\n",
    "            self.state[i1, 2:] = v_cm + v_rel * m2 / (m1 + m2)\n",
    "            self.state[i2, 2:] = v_cm - v_rel * m1 / (m1 + m2) \n",
    "        # /for\n",
    "\n",
    "        # check for crossing boundary\n",
    "        crossed_x1 = (self.state[:, 0] < self.bounds[0] + self.size)\n",
    "        crossed_x2 = (self.state[:, 0] > self.bounds[1] - self.size)\n",
    "        crossed_y1 = (self.state[:, 1] < self.bounds[2] + self.size)\n",
    "        crossed_y2 = (self.state[:, 1] > self.bounds[3] - self.size)\n",
    "\n",
    "        self.state[crossed_x1, 0] = self.bounds[0] + self.size\n",
    "        self.state[crossed_x2, 0] = self.bounds[1] - self.size\n",
    "\n",
    "        self.state[crossed_y1, 1] = self.bounds[2] + self.size\n",
    "        self.state[crossed_y2, 1] = self.bounds[3] - self.size\n",
    "\n",
    "        self.state[crossed_x1 | crossed_x2, 2] *= -1\n",
    "        self.state[crossed_y1 | crossed_y2, 3] *= -1\n",
    "\n",
    "        # add gravity\n",
    "        self.state[:, 3] -= self.M * self.G * dt\n",
    "    # /def"
   ]
  },
  {
   "cell_type": "markdown",
   "metadata": {},
   "source": [
    "Calling the class."
   ]
  },
  {
   "cell_type": "code",
   "execution_count": 16,
   "metadata": {},
   "outputs": [],
   "source": [
    "# set up initial state\n",
    "np.random.seed(0)\n",
    "init_state = -0.5 + np.random.random((50, 4))\n",
    "init_state[:, :2] *= 3.9\n",
    "\n",
    "box = ParticleBox(init_state, size=0.04)\n",
    "dt = 1. / 30 # 30fps"
   ]
  },
  {
   "cell_type": "markdown",
   "metadata": {},
   "source": [
    "Set up figure and animation functions"
   ]
  },
  {
   "cell_type": "code",
   "execution_count": 17,
   "metadata": {},
   "outputs": [
    {
     "data": {
      "image/png": "[encoded data removed]",
      "text/plain": [
       "<Figure size 432x288 with 1 Axes>"
      ]
     },
     "metadata": {
      "needs_background": "light"
     },
     "output_type": "display_data"
    }
   ],
   "source": [
    "# set up figure and animation\n",
    "fig = plt.figure()\n",
    "fig.subplots_adjust(left=0, right=1, bottom=0, top=1)\n",
    "ax = fig.add_subplot(111, aspect='equal', autoscale_on=False,\n",
    "                     xlim=(-3.2, 3.2), ylim=(-2.4, 2.4))\n",
    "\n",
    "# particles holds the locations of the particles\n",
    "particles, = ax.plot([], [], 'bo', ms=6)\n",
    "\n",
    "# rect is the box edge\n",
    "rect = plt.Rectangle(box.bounds[::2],\n",
    "                     box.bounds[1] - box.bounds[0],\n",
    "                     box.bounds[3] - box.bounds[2],\n",
    "                     ec='none', lw=2, fc='none')\n",
    "ax.add_patch(rect)\n",
    "\n",
    "def init():\n",
    "    \"\"\"initialize animation\"\"\"\n",
    "    global box, rect\n",
    "    particles.set_data([], [])\n",
    "    rect.set_edgecolor('none')\n",
    "    return particles, rect\n",
    "# /def\n",
    "\n",
    "def animate(i):\n",
    "    \"\"\"perform animation step\"\"\"\n",
    "    global box, rect, dt, ax, fig\n",
    "    box.step(dt)\n",
    "\n",
    "    ms = int(fig.dpi * 2 * box.size * fig.get_figwidth()\n",
    "             / np.diff(ax.get_xbound())[0])\n",
    "    \n",
    "    # update pieces of the animation\n",
    "    rect.set_edgecolor('k')\n",
    "    particles.set_data(box.state[:, 0], box.state[:, 1])\n",
    "    particles.set_markersize(ms)\n",
    "    return particles, rect\n",
    "# /def"
   ]
  },
  {
   "cell_type": "markdown",
   "metadata": {},
   "source": [
    "Creat the animation."
   ]
  },
  {
   "cell_type": "code",
   "execution_count": 18,
   "metadata": {},
   "outputs": [],
   "source": [
    "anim = animation.FuncAnimation(fig, animate, frames=600,\n",
    "                              interval=10, blit=True, init_func=init)\n",
    "\n",
    "\n",
    "# save the animation as an mp4.  This requires ffmpeg or mencoder to be\n",
    "# installed.  The extra_args ensure that the x264 codec is used, so that\n",
    "# the video can be embedded in html5.  You may need to adjust this for\n",
    "# your system: for more information, see\n",
    "# http://matplotlib.sourceforge.net/api/animation_api.html\n",
    "#anim.save('particle_box.mp4', fps=30, extra_args=['-vcodec', 'libx264'])\n",
    "\n",
    "anim.save('../figures/matplotlib/movies/particle_box.mp4', writer=animation.FFMpegWriter(fps=20, extra_args=['-vcodec', 'libx264']))\n",
    "plt.close()"
   ]
  },
  {
   "cell_type": "code",
   "execution_count": 19,
   "metadata": {},
   "outputs": [
    {
     "data": {
      "text/html": [
       "\n",
       "<video width=640\" height=\"480\" controls>\n",
       "  <source src=\"../figures/matplotlib/movies/particle_box.mp4\" type=\"video/mp4\">\n",
       "</video>\n"
      ],
      "text/plain": [
       "<IPython.core.display.HTML object>"
      ]
     },
     "metadata": {},
     "output_type": "display_data"
    }
   ],
   "source": [
    "%%HTML\n",
    "\n",
    "<video width=640\" height=\"480\" controls>\n",
    "  <source src=\"../figures/matplotlib/movies/particle_box.mp4\" type=\"video/mp4\">\n",
    "</video>"
   ]
  },
  {
   "cell_type": "markdown",
   "metadata": {},
   "source": [
    "<br><br>\n",
    "\n",
    "- - - \n",
    "\n",
    "<br>"
   ]
  },
  {
   "cell_type": "markdown",
   "metadata": {},
   "source": [
    "## General Numerical Solver for the 1D Time-Dependent Schrodinger's equation\n",
    "\n",
    "Sourced from https://jakevdp.github.io/blog/2012/09/05/quantum-python/"
   ]
  },
  {
   "cell_type": "code",
   "execution_count": 20,
   "metadata": {},
   "outputs": [],
   "source": [
    "class Schrodinger(object):\n",
    "    \"\"\"\n",
    "    Class which implements a numerical solution of the time-dependent\n",
    "    Schrodinger equation for an arbitrary potential\n",
    "    \"\"\"\n",
    "    def __init__(self, x, psi_x0, V_x,\n",
    "                 k0 = None, hbar=1, m=1, t0=0.0):\n",
    "        \"\"\"\n",
    "        Parameters\n",
    "        ----------\n",
    "        x : array_like, float\n",
    "            length-N array of evenly spaced spatial coordinates\n",
    "        psi_x0 : array_like, complex\n",
    "            length-N array of the initial wave function at time t0\n",
    "        V_x : array_like, float\n",
    "             length-N array giving the potential at each x\n",
    "        k0 : float\n",
    "            the minimum value of k.  Note that, because of the workings of the\n",
    "            fast fourier transform, the momentum wave-number will be defined\n",
    "            in the range\n",
    "              k0 < k < 2*pi / dx\n",
    "            where dx = x[1]-x[0].  If you expect nonzero momentum outside this\n",
    "            range, you must modify the inputs accordingly.  If not specified,\n",
    "            k0 will be calculated such that the range is [-k0,k0]\n",
    "        hbar : float\n",
    "            value of planck's constant (default = 1)\n",
    "        m : float\n",
    "            particle mass (default = 1)\n",
    "        t0 : float\n",
    "            initial tile (default = 0)\n",
    "        \"\"\"\n",
    "        # Validation of array inputs\n",
    "        self.x, psi_x0, self.V_x = map(np.asarray, (x, psi_x0, V_x))\n",
    "        N = self.x.size\n",
    "        assert self.x.shape == (N,)\n",
    "        assert psi_x0.shape == (N,)\n",
    "        assert self.V_x.shape == (N,)\n",
    "\n",
    "        # Set internal parameters\n",
    "        self.hbar = hbar\n",
    "        self.m = m\n",
    "        self.t = t0\n",
    "        self.dt_ = None\n",
    "        self.N = len(x)\n",
    "        self.dx = self.x[1] - self.x[0]\n",
    "        self.dk = 2 * np.pi / (self.N * self.dx)\n",
    "\n",
    "        # set momentum scale\n",
    "        if k0 == None:\n",
    "            self.k0 = -0.5 * self.N * self.dk\n",
    "        else:\n",
    "            self.k0 = k0\n",
    "        self.k = self.k0 + self.dk * np.arange(self.N)\n",
    "\n",
    "        self.psi_x = psi_x0\n",
    "        self.compute_k_from_x()\n",
    "\n",
    "        # variables which hold steps in evolution of the\n",
    "        self.x_evolve_half = None\n",
    "        self.x_evolve = None\n",
    "        self.k_evolve = None\n",
    "\n",
    "        # attributes used for dynamic plotting\n",
    "        self.psi_x_line = None\n",
    "        self.psi_k_line = None\n",
    "        self.V_x_line = None\n",
    "    # /def\n",
    "\n",
    "    def _set_psi_x(self, psi_x):\n",
    "        self.psi_mod_x = (psi_x * np.exp(-1j * self.k[0] * self.x)\n",
    "                          * self.dx / np.sqrt(2 * np.pi))\n",
    "    # /def\n",
    "\n",
    "    def _get_psi_x(self):\n",
    "        return (self.psi_mod_x * np.exp(1j * self.k[0] * self.x)\n",
    "                * np.sqrt(2 * np.pi) / self.dx)\n",
    "    # /def\n",
    "\n",
    "    def _set_psi_k(self, psi_k):\n",
    "        self.psi_mod_k = psi_k * np.exp(1j * self.x[0]\n",
    "                                        * self.dk * np.arange(self.N))\n",
    "    # /def\n",
    "\n",
    "    def _get_psi_k(self):\n",
    "        return self.psi_mod_k * np.exp(-1j * self.x[0] * \n",
    "                                        self.dk * np.arange(self.N))\n",
    "    # /def\n",
    "    \n",
    "    def _get_dt(self):\n",
    "        return self.dt_\n",
    "    # /def\n",
    "\n",
    "    def _set_dt(self, dt):\n",
    "        if dt != self.dt_:\n",
    "            self.dt_ = dt\n",
    "            self.x_evolve_half = np.exp(-0.5 * 1j * self.V_x\n",
    "                                         / self.hbar * dt )\n",
    "            self.x_evolve = self.x_evolve_half * self.x_evolve_half\n",
    "            self.k_evolve = np.exp(-0.5 * 1j * self.hbar /\n",
    "                                    self.m * (self.k * self.k) * dt)\n",
    "    # /def\n",
    "    \n",
    "    psi_x = property(_get_psi_x, _set_psi_x)\n",
    "    psi_k = property(_get_psi_k, _set_psi_k)\n",
    "    dt = property(_get_dt, _set_dt)\n",
    "\n",
    "    def compute_k_from_x(self):\n",
    "        self.psi_mod_k = fft(self.psi_mod_x)\n",
    "    # /def\n",
    "\n",
    "    def compute_x_from_k(self):\n",
    "        self.psi_mod_x = ifft(self.psi_mod_k)\n",
    "    # /def\n",
    "\n",
    "    def time_step(self, dt, Nsteps = 1):\n",
    "        \"\"\"\n",
    "        Perform a series of time-steps via the time-dependent\n",
    "        Schrodinger Equation.\n",
    "\n",
    "        Parameters\n",
    "        ----------\n",
    "        dt : float\n",
    "            the small time interval over which to integrate\n",
    "        Nsteps : float, optional\n",
    "            the number of intervals to compute.  The total change\n",
    "            in time at the end of this method will be dt * Nsteps.\n",
    "            default is N = 1\n",
    "        \"\"\"\n",
    "        self.dt = dt\n",
    "\n",
    "        if Nsteps > 0:\n",
    "            self.psi_mod_x *= self.x_evolve_half\n",
    "\n",
    "        for i in range(Nsteps - 1):\n",
    "            self.compute_k_from_x()\n",
    "            self.psi_mod_k *= self.k_evolve\n",
    "            self.compute_x_from_k()\n",
    "            self.psi_mod_x *= self.x_evolve\n",
    "\n",
    "        self.compute_k_from_x()\n",
    "        self.psi_mod_k *= self.k_evolve\n",
    "\n",
    "        self.compute_x_from_k()\n",
    "        self.psi_mod_x *= self.x_evolve_half\n",
    "\n",
    "        self.compute_k_from_x()\n",
    "\n",
    "        self.t += dt * Nsteps\n",
    "    # /def"
   ]
  },
  {
   "cell_type": "code",
   "execution_count": 21,
   "metadata": {},
   "outputs": [],
   "source": [
    "######################################################################\n",
    "# Helper functions for gaussian wave-packets\n",
    "\n",
    "def gauss_x(x, a, x0, k0):\n",
    "    \"\"\"\n",
    "    a gaussian wave packet of width a, centered at x0, with momentum k0\n",
    "    \"\"\" \n",
    "    return ((a * np.sqrt(np.pi)) ** (-0.5)\n",
    "            * np.exp(-0.5 * ((x - x0) * 1. / a) ** 2 + 1j * x * k0))\n",
    "\n",
    "def gauss_k(k,a,x0,k0):\n",
    "    \"\"\"\n",
    "    analytical fourier transform of gauss_x(x), above\n",
    "    \"\"\"\n",
    "    return ((a / np.sqrt(np.pi))**0.5\n",
    "            * np.exp(-0.5 * (a * (k - k0)) ** 2 - 1j * (k - k0) * x0))"
   ]
  },
  {
   "cell_type": "code",
   "execution_count": 22,
   "metadata": {},
   "outputs": [],
   "source": [
    "######################################################################\n",
    "# Utility functions for running the animation\n",
    "\n",
    "def theta(x):\n",
    "    \"\"\"\n",
    "    theta function :\n",
    "      returns 0 if x<=0, and 1 if x>0\n",
    "    \"\"\"\n",
    "    x = np.asarray(x)\n",
    "    y = np.zeros(x.shape)\n",
    "    y[x > 0] = 1.0\n",
    "    return y\n",
    "\n",
    "def square_barrier(x, width, height):\n",
    "    return height * (theta(x) - theta(x - width))"
   ]
  },
  {
   "cell_type": "code",
   "execution_count": 23,
   "metadata": {},
   "outputs": [],
   "source": [
    "######################################################################\n",
    "# Create the animation\n",
    "\n",
    "# specify time steps and duration\n",
    "dt = 0.01\n",
    "N_steps = 50\n",
    "t_max = 120\n",
    "frames = int(t_max / float(N_steps * dt))\n",
    "\n",
    "# specify constants\n",
    "hbar = 1.0   # planck's constant\n",
    "m = 1.9      # particle mass\n",
    "\n",
    "# specify range in x coordinate\n",
    "N = 2 ** 11\n",
    "dx = 0.1\n",
    "x = dx * (np.arange(N) - 0.5 * N)\n",
    "\n",
    "# specify potential\n",
    "V0 = 1.5\n",
    "L = hbar / np.sqrt(2 * m * V0)\n",
    "a = 3 * L\n",
    "x0 = -60 * L\n",
    "V_x = square_barrier(x, a, V0)\n",
    "V_x[x < -98] = 1E6\n",
    "V_x[x > 98] = 1E6\n",
    "\n",
    "# specify initial momentum and quantities derived from it\n",
    "p0 = np.sqrt(2 * m * 0.2 * V0)\n",
    "dp2 = p0 * p0 * 1./80\n",
    "d = hbar / np.sqrt(2 * dp2)\n",
    "\n",
    "k0 = p0 / hbar\n",
    "v0 = p0 / m\n",
    "psi_x0 = gauss_x(x, d, x0, k0)\n",
    "\n",
    "# define the Schrodinger object which performs the calculations\n",
    "S = Schrodinger(x=x,\n",
    "                psi_x0=psi_x0,\n",
    "                V_x=V_x,\n",
    "                hbar=hbar,\n",
    "                m=m,\n",
    "                k0=-28)"
   ]
  },
  {
   "cell_type": "code",
   "execution_count": 24,
   "metadata": {},
   "outputs": [
    {
     "data": {
      "image/png": "[encoded data removed]",
      "text/plain": [
       "<Figure size 432x288 with 2 Axes>"
      ]
     },
     "metadata": {
      "needs_background": "light"
     },
     "output_type": "display_data"
    }
   ],
   "source": [
    "######################################################################\n",
    "# Set up plot\n",
    "fig = plt.figure()\n",
    "\n",
    "# plotting limits\n",
    "xlim = (-100, 100)\n",
    "klim = (-5, 5)\n",
    "\n",
    "# top axes show the x-space data\n",
    "ymin = 0\n",
    "ymax = V0\n",
    "ax1 = fig.add_subplot(211, xlim=xlim,\n",
    "                      ylim=(ymin - 0.2 * (ymax - ymin),\n",
    "                            ymax + 0.2 * (ymax - ymin)))\n",
    "psi_x_line, = ax1.plot([], [], c='r', label=r'$|\\psi(x)|$')\n",
    "V_x_line, = ax1.plot([], [], c='k', label=r'$V(x)$')\n",
    "center_line = ax1.axvline(0, c='k', ls=':',\n",
    "                          label = r\"$x_0 + v_0t$\")\n",
    "\n",
    "title = ax1.set_title(\"\")\n",
    "ax1.legend(prop=dict(size=12))\n",
    "ax1.set_xlabel('$x$')\n",
    "ax1.set_ylabel(r'$|\\psi(x)|$')\n",
    "\n",
    "# bottom axes show the k-space data\n",
    "ymin = abs(S.psi_k).min()\n",
    "ymax = abs(S.psi_k).max()\n",
    "ax2 = fig.add_subplot(212, xlim=klim,\n",
    "                      ylim=(ymin - 0.2 * (ymax - ymin),\n",
    "                            ymax + 0.2 * (ymax - ymin)))\n",
    "psi_k_line, = ax2.plot([], [], c='r', label=r'$|\\psi(k)|$')\n",
    "\n",
    "p0_line1 = ax2.axvline(-p0 / hbar, c='k', ls=':', label=r'$\\pm p_0$')\n",
    "p0_line2 = ax2.axvline(p0 / hbar, c='k', ls=':')\n",
    "mV_line = ax2.axvline(np.sqrt(2 * V0) / hbar, c='k', ls='--',\n",
    "                      label=r'$\\sqrt{2mV_0}$')\n",
    "ax2.legend(prop=dict(size=12))\n",
    "ax2.set_xlabel('$k$')\n",
    "ax2.set_ylabel(r'$|\\psi(k)|$')\n",
    "\n",
    "V_x_line.set_data(S.x, S.V_x);"
   ]
  },
  {
   "cell_type": "code",
   "execution_count": 25,
   "metadata": {},
   "outputs": [],
   "source": [
    "######################################################################\n",
    "# Animate plot\n",
    "def init():\n",
    "    psi_x_line.set_data([], [])\n",
    "    V_x_line.set_data([], [])\n",
    "    center_line.set_data([], [])\n",
    "\n",
    "    psi_k_line.set_data([], [])\n",
    "    title.set_text(\"\")\n",
    "    return (psi_x_line, V_x_line, center_line, psi_k_line, title)\n",
    "\n",
    "def animate(i):\n",
    "    S.time_step(dt, N_steps)\n",
    "    psi_x_line.set_data(S.x, 4 * abs(S.psi_x))\n",
    "    V_x_line.set_data(S.x, S.V_x)\n",
    "    center_line.set_data(2 * [x0 + S.t * p0 / m], [0, 1])\n",
    "\n",
    "    psi_k_line.set_data(S.k, abs(S.psi_k))\n",
    "    title.set_text(\"t = %.2f\" % S.t)\n",
    "    return (psi_x_line, V_x_line, center_line, psi_k_line, title)\n",
    "\n",
    "# call the animator.  blit=True means only re-draw the parts that have changed.\n",
    "anim = animation.FuncAnimation(fig, animate, init_func=init,\n",
    "                               frames=frames, interval=30, blit=True)\n",
    "\n",
    "\n",
    "# uncomment the following line to save the video in mp4 format.  This\n",
    "# requires either mencoder or ffmpeg to be installed on your system\n",
    "anim.save('../figures/matplotlib/movies/schrodinger_barrier.mp4', writer=animation.FFMpegWriter(fps=20, extra_args=['-vcodec', 'libx264']))\n",
    "\n",
    "plt.close()"
   ]
  },
  {
   "cell_type": "code",
   "execution_count": 26,
   "metadata": {},
   "outputs": [
    {
     "data": {
      "text/html": [
       "\n",
       "<video width=640\" height=\"480\" controls>\n",
       "  <source src=\"../figures/matplotlib/movies/schrodinger_barrier.mp4\" type=\"video/mp4\">\n",
       "</video>\n"
      ],
      "text/plain": [
       "<IPython.core.display.HTML object>"
      ]
     },
     "metadata": {},
     "output_type": "display_data"
    }
   ],
   "source": [
    "%%HTML\n",
    "\n",
    "<video width=640\" height=\"480\" controls>\n",
    "  <source src=\"../figures/matplotlib/movies/schrodinger_barrier.mp4\" type=\"video/mp4\">\n",
    "</video>"
   ]
  },
  {
   "cell_type": "markdown",
   "metadata": {},
   "source": [
    "<br><br><br><br><br><br>\n",
    "\n",
    "- - - \n",
    "- - - \n",
    "\n",
    "<br>"
   ]
  },
  {
   "cell_type": "markdown",
   "metadata": {},
   "source": [
    "# Examples from Matplotlib"
   ]
  },
  {
   "cell_type": "markdown",
   "metadata": {},
   "source": [
    "## Bayes Update\n",
    "\n",
    "Sourced from [https://matplotlib.org/examples/animation/bayes_update.html](https://matplotlib.org/examples/animation/bayes_update.html)"
   ]
  },
  {
   "cell_type": "code",
   "execution_count": 27,
   "metadata": {},
   "outputs": [],
   "source": [
    "# update a distribution based on new data.\n",
    "\n",
    "class UpdateDist(object):\n",
    "    def __init__(self, ax, prob=0.5):\n",
    "        self.success = 0\n",
    "        self.prob = prob\n",
    "        self.line, = ax.plot([], [], 'k-')\n",
    "        self.x = np.linspace(0, 1, 200)\n",
    "        self.ax = ax\n",
    "\n",
    "        # Set up plot parameters\n",
    "        self.ax.set_xlim(0, 1)\n",
    "        self.ax.set_ylim(0, 15)\n",
    "        self.ax.grid(True)\n",
    "\n",
    "        # This vertical line represents the theoretical value, to\n",
    "        # which the plotted distribution should converge.\n",
    "        self.ax.axvline(prob, linestyle='--', color='black')\n",
    "    # /def\n",
    "\n",
    "    def init(self):\n",
    "        self.success = 0\n",
    "        self.line.set_data([], [])\n",
    "        return self.line,\n",
    "    # /def\n",
    "\n",
    "    def __call__(self, i):\n",
    "        # This way the plot can continuously run and we just keep\n",
    "        # watching new realizations of the process\n",
    "        if i == 0:\n",
    "            return self.init()\n",
    "\n",
    "        # Choose success based on exceed a threshold with a uniform pick\n",
    "        if np.random.rand(1,) < self.prob:\n",
    "            self.success += 1\n",
    "        y = stats.beta.pdf(self.x, self.success + 1, (i - self.success) + 1)\n",
    "        self.line.set_data(self.x, y)\n",
    "        return self.line,\n",
    "    # /def\n",
    "# /class"
   ]
  },
  {
   "cell_type": "code",
   "execution_count": 27,
   "metadata": {},
   "outputs": [],
   "source": [
    "fig, ax = plt.subplots()\n",
    "ud = UpdateDist(ax, prob=0.7)\n",
    "anim = animation.FuncAnimation(fig, ud, frames=np.arange(100), init_func=ud.init,\n",
    "                               interval=100, blit=True)\n",
    "\n",
    "anim.save('../figures/matplotlib/movies/bayes_update.mp4', writer=animation.FFMpegWriter(fps=20, extra_args=['-vcodec', 'libx264']))\n",
    "\n",
    "plt.close()"
   ]
  },
  {
   "cell_type": "code",
   "execution_count": 28,
   "metadata": {},
   "outputs": [
    {
     "data": {
      "text/html": [
       "\n",
       "<video width=640\" height=\"480\" controls>\n",
       "  <source src=\"../figures/matplotlib/movies/bayes_update.mp4\" type=\"video/mp4\">\n",
       "</video>\n"
      ],
      "text/plain": [
       "<IPython.core.display.HTML object>"
      ]
     },
     "metadata": {},
     "output_type": "display_data"
    }
   ],
   "source": [
    "%%HTML\n",
    "\n",
    "<video width=640\" height=\"480\" controls>\n",
    "  <source src=\"../figures/matplotlib/movies/bayes_update.mp4\" type=\"video/mp4\">\n",
    "</video>"
   ]
  },
  {
   "cell_type": "markdown",
   "metadata": {},
   "source": [
    "<br><br>\n",
    "\n",
    "- - -\n",
    "\n",
    "<br>"
   ]
  },
  {
   "cell_type": "markdown",
   "metadata": {},
   "source": [
    "## Simple 3D animation"
   ]
  },
  {
   "cell_type": "markdown",
   "metadata": {},
   "source": [
    "Sourced from [https://matplotlib.org/examples/animation/simple_3danim.html](https://matplotlib.org/examples/animation/simple_3danim.html)"
   ]
  },
  {
   "cell_type": "code",
   "execution_count": 29,
   "metadata": {},
   "outputs": [],
   "source": [
    "def Gen_RandLine(length, dims=2):\n",
    "    \"\"\"\n",
    "    Create a line using a random walk algorithm\n",
    "\n",
    "    length is the number of points for the line.\n",
    "    dims is the number of dimensions the line has.\n",
    "    \"\"\"\n",
    "    lineData = np.empty((dims, length))\n",
    "    lineData[:, 0] = np.random.rand(dims)\n",
    "    for index in range(1, length):\n",
    "        # scaling the random numbers by 0.1 so\n",
    "        # movement is small compared to position.\n",
    "        # subtraction by 0.5 is to change the range to [-0.5, 0.5]\n",
    "        # to allow a line to move backwards.\n",
    "        step = ((np.random.rand(dims) - 0.5) * 0.1)\n",
    "        lineData[:, index] = lineData[:, index - 1] + step\n",
    "\n",
    "    return lineData\n",
    "# /def\n",
    "\n",
    "\n",
    "def update_lines(num, dataLines, lines):\n",
    "    for line, data in zip(lines, dataLines):\n",
    "        # NOTE: there is no .set_data() for 3 dim data...\n",
    "        line.set_data(data[0:2, :num])\n",
    "        line.set_3d_properties(data[2, :num])\n",
    "    return lines\n",
    "# /def"
   ]
  },
  {
   "cell_type": "code",
   "execution_count": 29,
   "metadata": {},
   "outputs": [],
   "source": [
    "# Attaching 3D axis to the figure\n",
    "fig = plt.figure()\n",
    "ax = p3.Axes3D(fig)\n",
    "\n",
    "# Fifty lines of random 3-D lines\n",
    "data = [Gen_RandLine(25, 3) for index in range(50)]\n",
    "\n",
    "# Creating fifty line objects.\n",
    "# NOTE: Can't pass empty arrays into 3d version of plot()\n",
    "lines = [ax.plot(dat[0, 0:1], dat[1, 0:1], dat[2, 0:1])[0] for dat in data]\n",
    "\n",
    "# Setting the axes properties\n",
    "ax.set_xlim3d([0.0, 1.0])\n",
    "ax.set_xlabel('X')\n",
    "\n",
    "ax.set_ylim3d([0.0, 1.0])\n",
    "ax.set_ylabel('Y')\n",
    "\n",
    "ax.set_zlim3d([0.0, 1.0])\n",
    "ax.set_zlabel('Z')\n",
    "\n",
    "ax.set_title('3D Test')\n",
    "\n",
    "# Creating the Animation object\n",
    "anim = animation.FuncAnimation(fig, update_lines, 25, fargs=(data, lines),\n",
    "                                   interval=50, blit=False)\n",
    "\n",
    "anim.save('../figures/matplotlib/movies/simple_3danim.mp4', writer=animation.FFMpegWriter(fps=20, extra_args=['-vcodec', 'libx264']))\n",
    "\n",
    "plt.close()"
   ]
  },
  {
   "cell_type": "code",
   "execution_count": 30,
   "metadata": {},
   "outputs": [
    {
     "data": {
      "text/html": [
       "\n",
       "<video width=640\" height=\"480\" controls>\n",
       "  <source src=\"../figures/matplotlib/movies/simple_3danim.mp4\" type=\"video/mp4\">\n",
       "</video>\n"
      ],
      "text/plain": [
       "<IPython.core.display.HTML object>"
      ]
     },
     "metadata": {},
     "output_type": "display_data"
    }
   ],
   "source": [
    "%%HTML\n",
    "\n",
    "<video width=640\" height=\"480\" controls>\n",
    "  <source src=\"../figures/matplotlib/movies/simple_3danim.mp4\" type=\"video/mp4\">\n",
    "</video>"
   ]
  },
  {
   "cell_type": "markdown",
   "metadata": {},
   "source": [
    "<br><br>\n",
    "\n",
    "- - - \n",
    "\n",
    "<br>"
   ]
  },
  {
   "cell_type": "markdown",
   "metadata": {},
   "source": [
    "## Animated Subplots"
   ]
  },
  {
   "cell_type": "markdown",
   "metadata": {},
   "source": [
    "Sourced from [https://matplotlib.org/examples/animation/subplots.html](https://matplotlib.org/examples/animation/subplots.html)"
   ]
  },
  {
   "cell_type": "code",
   "execution_count": 31,
   "metadata": {},
   "outputs": [],
   "source": [
    "class SubplotAnimation(animation.TimedAnimation):\n",
    "\n",
    "    def __init__(self):\n",
    "        \n",
    "        # initialize properties\n",
    "        self.t = np.linspace(0, 80, 400)\n",
    "        self.x = np.cos(2 * np.pi * self.t / 10.)\n",
    "        self.y = np.sin(2 * np.pi * self.t / 10.)\n",
    "        self.z = 10 * self.t\n",
    "        \n",
    "        # set up figure\n",
    "        fig = plt.figure()\n",
    "        ax1 = fig.add_subplot(1, 2, 1)\n",
    "        ax2 = fig.add_subplot(2, 2, 2)\n",
    "        ax3 = fig.add_subplot(2, 2, 4)\n",
    "\n",
    "        # Axes 1\n",
    "        ax1.set_xlabel('x')\n",
    "        ax1.set_ylabel('y')\n",
    "        self.line1 = Line2D([], [], color='black')\n",
    "        self.line1a = Line2D([], [], color='red', linewidth=2)\n",
    "        self.line1e = Line2D([], [], color='red', marker='o',\n",
    "                             markeredgecolor='r')\n",
    "        ax1.add_line(self.line1)\n",
    "        ax1.add_line(self.line1a)\n",
    "        ax1.add_line(self.line1e)\n",
    "        ax1.set_xlim(-1, 1)\n",
    "        ax1.set_ylim(-2, 2)\n",
    "        ax1.set_aspect('equal', 'datalim')\n",
    "\n",
    "        # Axes 2\n",
    "        ax2.set_xlabel('y')\n",
    "        ax2.set_ylabel('z')\n",
    "        self.line2 = Line2D([], [], color='black')\n",
    "        self.line2a = Line2D([], [], color='red', linewidth=2)\n",
    "        self.line2e = Line2D(\n",
    "            [], [], color='red', marker='o', markeredgecolor='r')\n",
    "        ax2.add_line(self.line2)\n",
    "        ax2.add_line(self.line2a)\n",
    "        ax2.add_line(self.line2e)\n",
    "        ax2.set_xlim(-1, 1)\n",
    "        ax2.set_ylim(0, 800)\n",
    "\n",
    "        # Axes 3\n",
    "        ax3.set_xlabel('x')\n",
    "        ax3.set_ylabel('z')\n",
    "        self.line3 = Line2D([], [], color='black')\n",
    "        self.line3a = Line2D([], [], color='red', linewidth=2)\n",
    "        self.line3e = Line2D(\n",
    "            [], [], color='red', marker='o', markeredgecolor='r')\n",
    "        ax3.add_line(self.line3)\n",
    "        ax3.add_line(self.line3a)\n",
    "        ax3.add_line(self.line3e)\n",
    "        ax3.set_xlim(-1, 1)\n",
    "        ax3.set_ylim(0, 800)\n",
    "\n",
    "        # start animation\n",
    "        animation.TimedAnimation.__init__(self, fig, interval=50, blit=True)\n",
    "    # /def\n",
    "\n",
    "    def _draw_frame(self, framedata):\n",
    "        \"\"\"The set_data method.\"\"\"\n",
    "\n",
    "        i = framedata\n",
    "        head = i - 1\n",
    "        head_slice = (self.t > self.t[i] - 1.0) & (self.t < self.t[i])\n",
    "\n",
    "        self.line1.set_data(self.x[:i], self.y[:i])\n",
    "        self.line1a.set_data(self.x[head_slice], self.y[head_slice])\n",
    "        self.line1e.set_data(self.x[head], self.y[head])\n",
    "\n",
    "        self.line2.set_data(self.y[:i], self.z[:i])\n",
    "        self.line2a.set_data(self.y[head_slice], self.z[head_slice])\n",
    "        self.line2e.set_data(self.y[head], self.z[head])\n",
    "\n",
    "        self.line3.set_data(self.x[:i], self.z[:i])\n",
    "        self.line3a.set_data(self.x[head_slice], self.z[head_slice])\n",
    "        self.line3e.set_data(self.x[head], self.z[head])\n",
    "\n",
    "        self._drawn_artists = [self.line1, self.line1a, self.line1e,\n",
    "                               self.line2, self.line2a, self.line2e,\n",
    "                               self.line3, self.line3a, self.line3e]\n",
    "    # /def\n",
    "\n",
    "    def new_frame_seq(self):\n",
    "        return iter(range(self.t.size))\n",
    "    # /def\n",
    "\n",
    "    def _init_draw(self):\n",
    "        lines = [self.line1, self.line1a, self.line1e,\n",
    "                 self.line2, self.line2a, self.line2e,\n",
    "                 self.line3, self.line3a, self.line3e]\n",
    "        for l in lines:\n",
    "            l.set_data([], [])\n",
    "    # /def"
   ]
  },
  {
   "cell_type": "markdown",
   "metadata": {},
   "source": [
    "<br>\n",
    "\n",
    "Make subplot animation"
   ]
  },
  {
   "cell_type": "code",
   "execution_count": 32,
   "metadata": {},
   "outputs": [],
   "source": [
    "anim = SubplotAnimation()\n",
    "\n",
    "# saving\n",
    "anim.save('../figures/matplotlib/movies/subplots_by_Subplot.mp4',\n",
    "          writer=animation.FFMpegWriter(fps=20, extra_args=['-vcodec', 'libx264']))\n",
    "\n",
    "plt.close()"
   ]
  },
  {
   "cell_type": "code",
   "execution_count": 33,
   "metadata": {},
   "outputs": [
    {
     "data": {
      "text/html": [
       "\n",
       "<video width=640\" height=\"480\" controls>\n",
       "  <source src=\"../figures/matplotlib/movies/subplots_by_Subplot.mp4\" type=\"video/mp4\">\n",
       "</video>\n"
      ],
      "text/plain": [
       "<IPython.core.display.HTML object>"
      ]
     },
     "metadata": {},
     "output_type": "display_data"
    }
   ],
   "source": [
    "%%HTML\n",
    "\n",
    "<video width=640\" height=\"480\" controls>\n",
    "  <source src=\"../figures/matplotlib/movies/subplots_by_Subplot.mp4\" type=\"video/mp4\">\n",
    "</video>"
   ]
  },
  {
   "cell_type": "markdown",
   "metadata": {},
   "source": [
    "<br><br>\n",
    "\n",
    "- - - \n",
    "\n",
    "<br>"
   ]
  },
  {
   "cell_type": "markdown",
   "metadata": {},
   "source": [
    "## Rain Movie"
   ]
  },
  {
   "cell_type": "markdown",
   "metadata": {},
   "source": [
    "Sourced from https://matplotlib.org/gallery/animation/rain.html"
   ]
  },
  {
   "cell_type": "code",
   "execution_count": 37,
   "metadata": {},
   "outputs": [
    {
     "name": "stderr",
     "output_type": "stream",
     "text": [
      "/Users/nathanielstarkman/miniconda3/lib/python3.7/site-packages/ipykernel_launcher.py:12: FutureWarning: Passing (type, 1) or '1type' as a synonym of type is deprecated; in a future version of numpy, it will be understood as (type, (1,)) / '(1,)type'.\n",
      "  if sys.path[0] == '':\n"
     ]
    }
   ],
   "source": [
    "# Create new Figure and an Axes which fills it.\n",
    "fig = plt.figure(figsize=(7, 7))\n",
    "ax = fig.add_axes([0, 0, 1, 1], frameon=False)\n",
    "ax.set_xlim(0, 1), ax.set_xticks([])\n",
    "ax.set_ylim(0, 1), ax.set_yticks([])\n",
    "\n",
    "# Create rain data\n",
    "n_drops = 50\n",
    "rain_drops = np.zeros(n_drops, dtype=[('position', float, 2),\n",
    "                                      ('size',     float, 1),\n",
    "                                      ('growth',   float, 1),\n",
    "                                      ('color',    float, 4)])\n",
    "\n",
    "# Initialize the raindrops in random positions and with\n",
    "# random growth rates.\n",
    "rain_drops['position'] = np.random.uniform(0, 1, (n_drops, 2))\n",
    "rain_drops['growth'] = np.random.uniform(50, 200, n_drops)\n",
    "\n",
    "# Construct the scatter which we will update during animation\n",
    "# as the raindrops develop.\n",
    "scat = ax.scatter(rain_drops['position'][:, 0], rain_drops['position'][:, 1],\n",
    "                  s=rain_drops['size'], lw=0.5, edgecolors=rain_drops['color'],\n",
    "                  facecolors='none')\n",
    "\n",
    "\n",
    "def update(frame_number):\n",
    "    # Get an index which we can use to re-spawn the oldest raindrop.\n",
    "    current_index = frame_number % n_drops\n",
    "\n",
    "    # Make all colors more transparent as time progresses.\n",
    "    rain_drops['color'][:, 3] -= 1.0/len(rain_drops)\n",
    "    rain_drops['color'][:, 3] = np.clip(rain_drops['color'][:, 3], 0, 1)\n",
    "\n",
    "    # Make all circles bigger.\n",
    "    rain_drops['size'] += rain_drops['growth']\n",
    "\n",
    "    # Pick a new position for oldest rain drop, resetting its size,\n",
    "    # color and growth factor.\n",
    "    rain_drops['position'][current_index] = np.random.uniform(0, 1, 2)\n",
    "    rain_drops['size'][current_index] = 5\n",
    "    rain_drops['color'][current_index] = (0, 0, 0, 1)\n",
    "    rain_drops['growth'][current_index] = np.random.uniform(50, 200)\n",
    "\n",
    "    # Update the scatter collection, with the new colors, sizes and positions.\n",
    "    scat.set_edgecolors(rain_drops['color'])\n",
    "    scat.set_sizes(rain_drops['size'])\n",
    "    scat.set_offsets(rain_drops['position'])\n",
    "\n",
    "    return\n",
    "# /def\n",
    "\n",
    "\n",
    "# Construct the animation, using the update function as the animation director.\n",
    "anim = FuncAnimation(fig, update, interval=10)\n",
    "\n",
    "# saving\n",
    "anim.save('../figures/matplotlib/movies/rain.mp4',\n",
    "          writer=animation.FFMpegWriter(fps=20, extra_args=['-vcodec', 'libx264']))\n",
    "\n",
    "plt.close()"
   ]
  },
  {
   "cell_type": "code",
   "execution_count": 38,
   "metadata": {},
   "outputs": [
    {
     "data": {
      "text/html": [
       "\n",
       "<video width=640\" height=\"480\" controls>\n",
       "  <source src=\"../figures/matplotlib/movies/rain.mp4\" type=\"video/mp4\">\n",
       "</video>\n"
      ],
      "text/plain": [
       "<IPython.core.display.HTML object>"
      ]
     },
     "metadata": {},
     "output_type": "display_data"
    }
   ],
   "source": [
    "%%HTML\n",
    "\n",
    "<video width=640\" height=\"480\" controls>\n",
    "  <source src=\"../figures/matplotlib/movies/rain.mp4\" type=\"video/mp4\">\n",
    "</video>"
   ]
  },
  {
   "cell_type": "markdown",
   "metadata": {},
   "source": [
    "<br><br>\n",
    "\n",
    "- - - \n",
    "- - - \n",
    "\n",
    "<span style='font-size:40px;font-weight:650'>\n",
    "    END\n",
    "</span>"
   ]
  }
 ],
 "metadata": {
  "kernel_info": {
   "name": "astrophd"
  },
  "kernelspec": {
   "display_name": "Python 3",
   "language": "python",
   "name": "python3"
  },
  "language_info": {
   "codemirror_mode": {
    "name": "ipython",
    "version": 3
   },
   "file_extension": ".py",
   "mimetype": "text/x-python",
   "name": "python",
   "nbconvert_exporter": "python",
   "pygments_lexer": "ipython3",
   "version": "3.7.3"
  },
  "nteract": {
   "version": "0.12.3"
  }
 },
 "nbformat": 4,
 "nbformat_minor": 4
}
